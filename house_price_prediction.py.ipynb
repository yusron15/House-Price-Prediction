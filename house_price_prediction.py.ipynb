{
 "cells": [
  {
   "cell_type": "code",
   "execution_count": 1,
   "id": "1478baad",
   "metadata": {},
   "outputs": [],
   "source": [
    "import pandas as pd\n",
    "import matplotlib.pyplot as plt\n",
    "import numpy as np\n",
    "import seaborn as sns\n",
    "from sklearn.linear_model import LinearRegression\n",
    "from sklearn.model_selection import train_test_split"
   ]
  },
  {
   "cell_type": "code",
   "execution_count": 2,
   "id": "be048596",
   "metadata": {},
   "outputs": [],
   "source": [
    "df = pd.read_csv('kc_house_data.csv', usecols=['bedrooms', 'bathrooms', 'sqft_living', 'grade', 'price', 'yr_built'])"
   ]
  },
  {
   "cell_type": "code",
   "execution_count": 8,
   "id": "e23a00d4",
   "metadata": {},
   "outputs": [
    {
     "data": {
      "text/html": [
       "<div>\n",
       "<style scoped>\n",
       "    .dataframe tbody tr th:only-of-type {\n",
       "        vertical-align: middle;\n",
       "    }\n",
       "\n",
       "    .dataframe tbody tr th {\n",
       "        vertical-align: top;\n",
       "    }\n",
       "\n",
       "    .dataframe thead th {\n",
       "        text-align: right;\n",
       "    }\n",
       "</style>\n",
       "<table border=\"1\" class=\"dataframe\">\n",
       "  <thead>\n",
       "    <tr style=\"text-align: right;\">\n",
       "      <th></th>\n",
       "      <th>price</th>\n",
       "      <th>bedrooms</th>\n",
       "      <th>bathrooms</th>\n",
       "      <th>sqft_living</th>\n",
       "      <th>grade</th>\n",
       "      <th>yr_built</th>\n",
       "    </tr>\n",
       "  </thead>\n",
       "  <tbody>\n",
       "    <tr>\n",
       "      <th>0</th>\n",
       "      <td>221900.0</td>\n",
       "      <td>3</td>\n",
       "      <td>1.00</td>\n",
       "      <td>1180</td>\n",
       "      <td>7</td>\n",
       "      <td>1955</td>\n",
       "    </tr>\n",
       "    <tr>\n",
       "      <th>1</th>\n",
       "      <td>538000.0</td>\n",
       "      <td>3</td>\n",
       "      <td>2.25</td>\n",
       "      <td>2570</td>\n",
       "      <td>7</td>\n",
       "      <td>1951</td>\n",
       "    </tr>\n",
       "    <tr>\n",
       "      <th>2</th>\n",
       "      <td>180000.0</td>\n",
       "      <td>2</td>\n",
       "      <td>1.00</td>\n",
       "      <td>770</td>\n",
       "      <td>6</td>\n",
       "      <td>1933</td>\n",
       "    </tr>\n",
       "    <tr>\n",
       "      <th>3</th>\n",
       "      <td>604000.0</td>\n",
       "      <td>4</td>\n",
       "      <td>3.00</td>\n",
       "      <td>1960</td>\n",
       "      <td>7</td>\n",
       "      <td>1965</td>\n",
       "    </tr>\n",
       "    <tr>\n",
       "      <th>4</th>\n",
       "      <td>510000.0</td>\n",
       "      <td>3</td>\n",
       "      <td>2.00</td>\n",
       "      <td>1680</td>\n",
       "      <td>8</td>\n",
       "      <td>1987</td>\n",
       "    </tr>\n",
       "  </tbody>\n",
       "</table>\n",
       "</div>"
      ],
      "text/plain": [
       "      price  bedrooms  bathrooms  sqft_living  grade  yr_built\n",
       "0  221900.0         3       1.00         1180      7      1955\n",
       "1  538000.0         3       2.25         2570      7      1951\n",
       "2  180000.0         2       1.00          770      6      1933\n",
       "3  604000.0         4       3.00         1960      7      1965\n",
       "4  510000.0         3       2.00         1680      8      1987"
      ]
     },
     "execution_count": 8,
     "metadata": {},
     "output_type": "execute_result"
    }
   ],
   "source": [
    "#Melihat 5 baris teratas dari data.\n",
    "#Independent variabel(x) adalah bedrooms, bathrooms, sqft_living, grade, yr_built.\n",
    "#Dependent variabel(y) adalah price.\n",
    "df.head()"
   ]
  },
  {
   "cell_type": "code",
   "execution_count": 17,
   "id": "df71f93c",
   "metadata": {},
   "outputs": [
    {
     "data": {
      "text/plain": [
       "(21613, 6)"
      ]
     },
     "execution_count": 17,
     "metadata": {},
     "output_type": "execute_result"
    }
   ],
   "source": [
    "#Mengetahui jumlah kolom dan baris dari data\n",
    "#Data kita mempunya 6 kolom (features) dengan 21613 baris\n",
    "df.shape"
   ]
  },
  {
   "cell_type": "code",
   "execution_count": 18,
   "id": "2b492e47",
   "metadata": {},
   "outputs": [
    {
     "name": "stdout",
     "output_type": "stream",
     "text": [
      "<class 'pandas.core.frame.DataFrame'>\n",
      "RangeIndex: 21613 entries, 0 to 21612\n",
      "Data columns (total 6 columns):\n",
      " #   Column       Non-Null Count  Dtype  \n",
      "---  ------       --------------  -----  \n",
      " 0   price        21613 non-null  float64\n",
      " 1   bedrooms     21613 non-null  int64  \n",
      " 2   bathrooms    21613 non-null  float64\n",
      " 3   sqft_living  21613 non-null  int64  \n",
      " 4   grade        21613 non-null  int64  \n",
      " 5   yr_built     21613 non-null  int64  \n",
      "dtypes: float64(2), int64(4)\n",
      "memory usage: 1013.2 KB\n"
     ]
    }
   ],
   "source": [
    "#Melihat informasi data kita mulai dari jumlah data, tipe data, memory yang digunakan dll.\n",
    "#Dapat dilihat bahwa seluruh data sudah di dalam bentuk numerik\n",
    "df.info()"
   ]
  },
  {
   "cell_type": "code",
   "execution_count": 19,
   "id": "271ffc0a",
   "metadata": {},
   "outputs": [
    {
     "data": {
      "text/html": [
       "<div>\n",
       "<style scoped>\n",
       "    .dataframe tbody tr th:only-of-type {\n",
       "        vertical-align: middle;\n",
       "    }\n",
       "\n",
       "    .dataframe tbody tr th {\n",
       "        vertical-align: top;\n",
       "    }\n",
       "\n",
       "    .dataframe thead th {\n",
       "        text-align: right;\n",
       "    }\n",
       "</style>\n",
       "<table border=\"1\" class=\"dataframe\">\n",
       "  <thead>\n",
       "    <tr style=\"text-align: right;\">\n",
       "      <th></th>\n",
       "      <th>price</th>\n",
       "      <th>bedrooms</th>\n",
       "      <th>bathrooms</th>\n",
       "      <th>sqft_living</th>\n",
       "      <th>grade</th>\n",
       "      <th>yr_built</th>\n",
       "    </tr>\n",
       "  </thead>\n",
       "  <tbody>\n",
       "    <tr>\n",
       "      <th>count</th>\n",
       "      <td>2.161300e+04</td>\n",
       "      <td>21613.000000</td>\n",
       "      <td>21613.000000</td>\n",
       "      <td>21613.000000</td>\n",
       "      <td>21613.000000</td>\n",
       "      <td>21613.000000</td>\n",
       "    </tr>\n",
       "    <tr>\n",
       "      <th>mean</th>\n",
       "      <td>5.401822e+05</td>\n",
       "      <td>3.370842</td>\n",
       "      <td>2.114757</td>\n",
       "      <td>2079.899736</td>\n",
       "      <td>7.656873</td>\n",
       "      <td>1971.005136</td>\n",
       "    </tr>\n",
       "    <tr>\n",
       "      <th>std</th>\n",
       "      <td>3.673622e+05</td>\n",
       "      <td>0.930062</td>\n",
       "      <td>0.770163</td>\n",
       "      <td>918.440897</td>\n",
       "      <td>1.175459</td>\n",
       "      <td>29.373411</td>\n",
       "    </tr>\n",
       "    <tr>\n",
       "      <th>min</th>\n",
       "      <td>7.500000e+04</td>\n",
       "      <td>0.000000</td>\n",
       "      <td>0.000000</td>\n",
       "      <td>290.000000</td>\n",
       "      <td>1.000000</td>\n",
       "      <td>1900.000000</td>\n",
       "    </tr>\n",
       "    <tr>\n",
       "      <th>25%</th>\n",
       "      <td>3.219500e+05</td>\n",
       "      <td>3.000000</td>\n",
       "      <td>1.750000</td>\n",
       "      <td>1427.000000</td>\n",
       "      <td>7.000000</td>\n",
       "      <td>1951.000000</td>\n",
       "    </tr>\n",
       "    <tr>\n",
       "      <th>50%</th>\n",
       "      <td>4.500000e+05</td>\n",
       "      <td>3.000000</td>\n",
       "      <td>2.250000</td>\n",
       "      <td>1910.000000</td>\n",
       "      <td>7.000000</td>\n",
       "      <td>1975.000000</td>\n",
       "    </tr>\n",
       "    <tr>\n",
       "      <th>75%</th>\n",
       "      <td>6.450000e+05</td>\n",
       "      <td>4.000000</td>\n",
       "      <td>2.500000</td>\n",
       "      <td>2550.000000</td>\n",
       "      <td>8.000000</td>\n",
       "      <td>1997.000000</td>\n",
       "    </tr>\n",
       "    <tr>\n",
       "      <th>max</th>\n",
       "      <td>7.700000e+06</td>\n",
       "      <td>33.000000</td>\n",
       "      <td>8.000000</td>\n",
       "      <td>13540.000000</td>\n",
       "      <td>13.000000</td>\n",
       "      <td>2015.000000</td>\n",
       "    </tr>\n",
       "  </tbody>\n",
       "</table>\n",
       "</div>"
      ],
      "text/plain": [
       "              price      bedrooms     bathrooms   sqft_living         grade  \\\n",
       "count  2.161300e+04  21613.000000  21613.000000  21613.000000  21613.000000   \n",
       "mean   5.401822e+05      3.370842      2.114757   2079.899736      7.656873   \n",
       "std    3.673622e+05      0.930062      0.770163    918.440897      1.175459   \n",
       "min    7.500000e+04      0.000000      0.000000    290.000000      1.000000   \n",
       "25%    3.219500e+05      3.000000      1.750000   1427.000000      7.000000   \n",
       "50%    4.500000e+05      3.000000      2.250000   1910.000000      7.000000   \n",
       "75%    6.450000e+05      4.000000      2.500000   2550.000000      8.000000   \n",
       "max    7.700000e+06     33.000000      8.000000  13540.000000     13.000000   \n",
       "\n",
       "           yr_built  \n",
       "count  21613.000000  \n",
       "mean    1971.005136  \n",
       "std       29.373411  \n",
       "min     1900.000000  \n",
       "25%     1951.000000  \n",
       "50%     1975.000000  \n",
       "75%     1997.000000  \n",
       "max     2015.000000  "
      ]
     },
     "execution_count": 19,
     "metadata": {},
     "output_type": "execute_result"
    }
   ],
   "source": [
    "#Melihat statistical description dari data mulai dari mean, kuartil, standard deviation dll\n",
    "df.describe()"
   ]
  },
  {
   "cell_type": "code",
   "execution_count": 20,
   "id": "207d934d",
   "metadata": {},
   "outputs": [],
   "source": [
    "#Mrubah tipe data dari bathrooms yang semula float menjadi int\n",
    "df['bathrooms'] = df['bathrooms'].astype('int')"
   ]
  },
  {
   "cell_type": "code",
   "execution_count": 21,
   "id": "588a5864",
   "metadata": {},
   "outputs": [],
   "source": [
    "#Mengganti nilai 33 menjadi 3\n",
    "df['bedrooms'] = df['bedrooms'].replace(33,3)"
   ]
  },
  {
   "cell_type": "code",
   "execution_count": 22,
   "id": "0865f542",
   "metadata": {},
   "outputs": [
    {
     "data": {
      "text/plain": [
       "price          0\n",
       "bedrooms       0\n",
       "bathrooms      0\n",
       "sqft_living    0\n",
       "grade          0\n",
       "yr_built       0\n",
       "dtype: int64"
      ]
     },
     "execution_count": 22,
     "metadata": {},
     "output_type": "execute_result"
    }
   ],
   "source": [
    "#Mencari dan menangani missing values\n",
    "#Ternyata data kita tidak ada missing values\n",
    "df.isnull().sum()"
   ]
  },
  {
   "cell_type": "code",
   "execution_count": 23,
   "id": "e45734c5",
   "metadata": {},
   "outputs": [
    {
     "data": {
      "text/html": [
       "<div>\n",
       "<style scoped>\n",
       "    .dataframe tbody tr th:only-of-type {\n",
       "        vertical-align: middle;\n",
       "    }\n",
       "\n",
       "    .dataframe tbody tr th {\n",
       "        vertical-align: top;\n",
       "    }\n",
       "\n",
       "    .dataframe thead th {\n",
       "        text-align: right;\n",
       "    }\n",
       "</style>\n",
       "<table border=\"1\" class=\"dataframe\">\n",
       "  <thead>\n",
       "    <tr style=\"text-align: right;\">\n",
       "      <th></th>\n",
       "      <th>price</th>\n",
       "      <th>bedrooms</th>\n",
       "      <th>bathrooms</th>\n",
       "      <th>sqft_living</th>\n",
       "      <th>grade</th>\n",
       "      <th>yr_built</th>\n",
       "    </tr>\n",
       "  </thead>\n",
       "  <tbody>\n",
       "    <tr>\n",
       "      <th>0</th>\n",
       "      <td>221900.0</td>\n",
       "      <td>3</td>\n",
       "      <td>1</td>\n",
       "      <td>1180</td>\n",
       "      <td>7</td>\n",
       "      <td>1955</td>\n",
       "    </tr>\n",
       "    <tr>\n",
       "      <th>1</th>\n",
       "      <td>538000.0</td>\n",
       "      <td>3</td>\n",
       "      <td>2</td>\n",
       "      <td>2570</td>\n",
       "      <td>7</td>\n",
       "      <td>1951</td>\n",
       "    </tr>\n",
       "    <tr>\n",
       "      <th>2</th>\n",
       "      <td>180000.0</td>\n",
       "      <td>2</td>\n",
       "      <td>1</td>\n",
       "      <td>770</td>\n",
       "      <td>6</td>\n",
       "      <td>1933</td>\n",
       "    </tr>\n",
       "    <tr>\n",
       "      <th>3</th>\n",
       "      <td>604000.0</td>\n",
       "      <td>4</td>\n",
       "      <td>3</td>\n",
       "      <td>1960</td>\n",
       "      <td>7</td>\n",
       "      <td>1965</td>\n",
       "    </tr>\n",
       "    <tr>\n",
       "      <th>4</th>\n",
       "      <td>510000.0</td>\n",
       "      <td>3</td>\n",
       "      <td>2</td>\n",
       "      <td>1680</td>\n",
       "      <td>8</td>\n",
       "      <td>1987</td>\n",
       "    </tr>\n",
       "  </tbody>\n",
       "</table>\n",
       "</div>"
      ],
      "text/plain": [
       "      price  bedrooms  bathrooms  sqft_living  grade  yr_built\n",
       "0  221900.0         3          1         1180      7      1955\n",
       "1  538000.0         3          2         2570      7      1951\n",
       "2  180000.0         2          1          770      6      1933\n",
       "3  604000.0         4          3         1960      7      1965\n",
       "4  510000.0         3          2         1680      8      1987"
      ]
     },
     "execution_count": 23,
     "metadata": {},
     "output_type": "execute_result"
    }
   ],
   "source": [
    "df.head()"
   ]
  },
  {
   "cell_type": "code",
   "execution_count": 24,
   "id": "c37d3704",
   "metadata": {},
   "outputs": [
    {
     "name": "stderr",
     "output_type": "stream",
     "text": [
      "d:\\project\\python\\lib\\site-packages\\seaborn\\_decorators.py:36: FutureWarning: Pass the following variable as a keyword arg: x. From version 0.12, the only valid positional argument will be `data`, and passing other arguments without an explicit keyword will result in an error or misinterpretation.\n",
      "  warnings.warn(\n"
     ]
    },
    {
     "data": {
      "image/png": "[encoded data removed]",
      "text/plain": [
       "<Figure size 864x288 with 2 Axes>"
      ]
     },
     "metadata": {
      "needs_background": "light"
     },
     "output_type": "display_data"
    }
   ],
   "source": [
    "#Univariate analysis bedrooms\n",
    "#Melihat distribusi dari bedrooms\n",
    "f = plt.figure(figsize=(12,4))\n",
    "\n",
    "f.add_subplot(1,2,1)\n",
    "sns.countplot(df['bedrooms'])\n",
    "\n",
    "f.add_subplot(1,2,2)\n",
    "plt.boxplot(df['bedrooms'])\n",
    "plt.show()"
   ]
  },
  {
   "cell_type": "code",
   "execution_count": 25,
   "id": "ae6dd80a",
   "metadata": {},
   "outputs": [
    {
     "name": "stderr",
     "output_type": "stream",
     "text": [
      "d:\\project\\python\\lib\\site-packages\\seaborn\\_decorators.py:36: FutureWarning: Pass the following variable as a keyword arg: x. From version 0.12, the only valid positional argument will be `data`, and passing other arguments without an explicit keyword will result in an error or misinterpretation.\n",
      "  warnings.warn(\n"
     ]
    },
    {
     "data": {
      "image/png": "[encoded data removed]",
      "text/plain": [
       "<Figure size 864x288 with 2 Axes>"
      ]
     },
     "metadata": {
      "needs_background": "light"
     },
     "output_type": "display_data"
    }
   ],
   "source": [
    "#Univariate analysis bathrooms\n",
    "#Melihat distribusi dari bathrooms\n",
    "f = plt.figure(figsize=(12,4))\n",
    "\n",
    "f.add_subplot(1,2,1)\n",
    "sns.countplot(df['bathrooms'])\n",
    "\n",
    "f.add_subplot(1,2,2)\n",
    "plt.boxplot(df['bathrooms'])\n",
    "plt.show()"
   ]
  },
  {
   "cell_type": "code",
   "execution_count": 26,
   "id": "7088a4da",
   "metadata": {},
   "outputs": [
    {
     "data": {
      "image/png": "[encoded data removed]",
      "text/plain": [
       "<Figure size 864x288 with 2 Axes>"
      ]
     },
     "metadata": {
      "needs_background": "light"
     },
     "output_type": "display_data"
    }
   ],
   "source": [
    "#Univariate analysis sqft_living\n",
    "#Melihat distribusi dari sqft_living\n",
    "f = plt.figure(figsize=(12,4))\n",
    "\n",
    "f.add_subplot(1,2,1)\n",
    "df['sqft_living'].plot(kind='kde')\n",
    "\n",
    "f.add_subplot(1,2,2)\n",
    "plt.boxplot(df['sqft_living'])\n",
    "plt.show()"
   ]
  },
  {
   "cell_type": "code",
   "execution_count": 27,
   "id": "8454c30e",
   "metadata": {},
   "outputs": [
    {
     "name": "stderr",
     "output_type": "stream",
     "text": [
      "d:\\project\\python\\lib\\site-packages\\seaborn\\_decorators.py:36: FutureWarning: Pass the following variable as a keyword arg: x. From version 0.12, the only valid positional argument will be `data`, and passing other arguments without an explicit keyword will result in an error or misinterpretation.\n",
      "  warnings.warn(\n"
     ]
    },
    {
     "data": {
      "image/png": "[encoded data removed]",
      "text/plain": [
       "<Figure size 864x288 with 2 Axes>"
      ]
     },
     "metadata": {
      "needs_background": "light"
     },
     "output_type": "display_data"
    }
   ],
   "source": [
    "#Univariate analysis grade\n",
    "#Melihat distribusi dari grade\n",
    "f = plt.figure(figsize=(12,4))\n",
    "\n",
    "f.add_subplot(1,2,1)\n",
    "sns.countplot(df['grade'])\n",
    "\n",
    "f.add_subplot(1,2,2)\n",
    "plt.boxplot(df['grade'])\n",
    "plt.show()"
   ]
  },
  {
   "cell_type": "code",
   "execution_count": 28,
   "id": "89184e79",
   "metadata": {},
   "outputs": [
    {
     "name": "stderr",
     "output_type": "stream",
     "text": [
      "d:\\project\\python\\lib\\site-packages\\seaborn\\_decorators.py:36: FutureWarning: Pass the following variable as a keyword arg: x. From version 0.12, the only valid positional argument will be `data`, and passing other arguments without an explicit keyword will result in an error or misinterpretation.\n",
      "  warnings.warn(\n"
     ]
    },
    {
     "data": {
      "image/png": "[encoded data removed]",
      "text/plain": [
       "<Figure size 1440x576 with 2 Axes>"
      ]
     },
     "metadata": {
      "needs_background": "light"
     },
     "output_type": "display_data"
    }
   ],
   "source": [
    "#Univariate analysis yr_built\n",
    "#Melihat distribusi dari yr_built\n",
    "f = plt.figure(figsize=(20,8))\n",
    "\n",
    "f.add_subplot(1,2,1)\n",
    "sns.countplot(df['yr_built'])\n",
    "\n",
    "f.add_subplot(1,2,2)\n",
    "plt.boxplot(df['yr_built'])\n",
    "plt.show()"
   ]
  },
  {
   "cell_type": "code",
   "execution_count": 29,
   "id": "cab216a6",
   "metadata": {},
   "outputs": [
    {
     "name": "stderr",
     "output_type": "stream",
     "text": [
      "d:\\project\\python\\lib\\site-packages\\seaborn\\axisgrid.py:1969: UserWarning: The `size` parameter has been renamed to `height`; please update your code.\n",
      "  warnings.warn(msg, UserWarning)\n"
     ]
    },
    {
     "data": {
      "text/plain": [
       "<Figure size 720x576 with 0 Axes>"
      ]
     },
     "metadata": {},
     "output_type": "display_data"
    },
    {
     "data": {
      "image/png": "[encoded data removed]",
      "text/plain": [
       "<Figure size 1350x360 with 5 Axes>"
      ]
     },
     "metadata": {
      "needs_background": "light"
     },
     "output_type": "display_data"
    }
   ],
   "source": [
    "#Bivariate analysis antara independent variable dan dependent variable\n",
    "#Melihat hubungan antara independent dan dependent\n",
    "#Menggunakan pairplot\n",
    "plt.figure(figsize=(10,8))\n",
    "sns.pairplot(data=df, x_vars=['bedrooms', 'bathrooms', 'sqft_living', 'grade', 'yr_built'], y_vars=['price'], size=5, aspect=0.75)\n",
    "plt.show()"
   ]
  },
  {
   "cell_type": "code",
   "execution_count": 30,
   "id": "ca2fa18e",
   "metadata": {},
   "outputs": [
    {
     "data": {
      "text/html": [
       "<style  type=\"text/css\" >\n",
       "#T_1ef80_row0_col0,#T_1ef80_row1_col1,#T_1ef80_row2_col2,#T_1ef80_row3_col3,#T_1ef80_row4_col4,#T_1ef80_row5_col5{\n",
       "            background-color:  #023858;\n",
       "            color:  #f1f1f1;\n",
       "        }#T_1ef80_row0_col1{\n",
       "            background-color:  #dfddec;\n",
       "            color:  #000000;\n",
       "        }#T_1ef80_row0_col2{\n",
       "            background-color:  #eae6f1;\n",
       "            color:  #000000;\n",
       "        }#T_1ef80_row0_col3{\n",
       "            background-color:  #549cc7;\n",
       "            color:  #000000;\n",
       "        }#T_1ef80_row0_col4{\n",
       "            background-color:  #7eadd1;\n",
       "            color:  #000000;\n",
       "        }#T_1ef80_row0_col5,#T_1ef80_row1_col4,#T_1ef80_row5_col0,#T_1ef80_row5_col1,#T_1ef80_row5_col2,#T_1ef80_row5_col3{\n",
       "            background-color:  #fff7fb;\n",
       "            color:  #000000;\n",
       "        }#T_1ef80_row1_col0{\n",
       "            background-color:  #c8cde4;\n",
       "            color:  #000000;\n",
       "        }#T_1ef80_row1_col2{\n",
       "            background-color:  #f2ecf5;\n",
       "            color:  #000000;\n",
       "        }#T_1ef80_row1_col3,#T_1ef80_row2_col5{\n",
       "            background-color:  #9cb9d9;\n",
       "            color:  #000000;\n",
       "        }#T_1ef80_row1_col5{\n",
       "            background-color:  #eee9f3;\n",
       "            color:  #000000;\n",
       "        }#T_1ef80_row2_col0{\n",
       "            background-color:  #7bacd1;\n",
       "            color:  #000000;\n",
       "        }#T_1ef80_row2_col1,#T_1ef80_row2_col4{\n",
       "            background-color:  #a4bcda;\n",
       "            color:  #000000;\n",
       "        }#T_1ef80_row2_col3{\n",
       "            background-color:  #589ec8;\n",
       "            color:  #000000;\n",
       "        }#T_1ef80_row3_col0{\n",
       "            background-color:  #1e80b8;\n",
       "            color:  #000000;\n",
       "        }#T_1ef80_row3_col1{\n",
       "            background-color:  #6da6cd;\n",
       "            color:  #000000;\n",
       "        }#T_1ef80_row3_col2{\n",
       "            background-color:  #81aed2;\n",
       "            color:  #000000;\n",
       "        }#T_1ef80_row3_col4{\n",
       "            background-color:  #358fc0;\n",
       "            color:  #000000;\n",
       "        }#T_1ef80_row3_col5{\n",
       "            background-color:  #c6cce3;\n",
       "            color:  #000000;\n",
       "        }#T_1ef80_row4_col0,#T_1ef80_row4_col3{\n",
       "            background-color:  #2c89bd;\n",
       "            color:  #000000;\n",
       "        }#T_1ef80_row4_col1{\n",
       "            background-color:  #d1d2e6;\n",
       "            color:  #000000;\n",
       "        }#T_1ef80_row4_col2{\n",
       "            background-color:  #bdc8e1;\n",
       "            color:  #000000;\n",
       "        }#T_1ef80_row4_col5{\n",
       "            background-color:  #96b6d7;\n",
       "            color:  #000000;\n",
       "        }#T_1ef80_row5_col4{\n",
       "            background-color:  #ece7f2;\n",
       "            color:  #000000;\n",
       "        }</style><table id=\"T_1ef80_\" ><thead>    <tr>        <th class=\"blank level0\" ></th>        <th class=\"col_heading level0 col0\" >price</th>        <th class=\"col_heading level0 col1\" >bedrooms</th>        <th class=\"col_heading level0 col2\" >bathrooms</th>        <th class=\"col_heading level0 col3\" >sqft_living</th>        <th class=\"col_heading level0 col4\" >grade</th>        <th class=\"col_heading level0 col5\" >yr_built</th>    </tr></thead><tbody>\n",
       "                <tr>\n",
       "                        <th id=\"T_1ef80_level0_row0\" class=\"row_heading level0 row0\" >price</th>\n",
       "                        <td id=\"T_1ef80_row0_col0\" class=\"data row0 col0\" >1.00</td>\n",
       "                        <td id=\"T_1ef80_row0_col1\" class=\"data row0 col1\" >0.32</td>\n",
       "                        <td id=\"T_1ef80_row0_col2\" class=\"data row0 col2\" >0.51</td>\n",
       "                        <td id=\"T_1ef80_row0_col3\" class=\"data row0 col3\" >0.70</td>\n",
       "                        <td id=\"T_1ef80_row0_col4\" class=\"data row0 col4\" >0.67</td>\n",
       "                        <td id=\"T_1ef80_row0_col5\" class=\"data row0 col5\" >0.05</td>\n",
       "            </tr>\n",
       "            <tr>\n",
       "                        <th id=\"T_1ef80_level0_row1\" class=\"row_heading level0 row1\" >bedrooms</th>\n",
       "                        <td id=\"T_1ef80_row1_col0\" class=\"data row1 col0\" >0.32</td>\n",
       "                        <td id=\"T_1ef80_row1_col1\" class=\"data row1 col1\" >1.00</td>\n",
       "                        <td id=\"T_1ef80_row1_col2\" class=\"data row1 col2\" >0.48</td>\n",
       "                        <td id=\"T_1ef80_row1_col3\" class=\"data row1 col3\" >0.59</td>\n",
       "                        <td id=\"T_1ef80_row1_col4\" class=\"data row1 col4\" >0.37</td>\n",
       "                        <td id=\"T_1ef80_row1_col5\" class=\"data row1 col5\" >0.16</td>\n",
       "            </tr>\n",
       "            <tr>\n",
       "                        <th id=\"T_1ef80_level0_row2\" class=\"row_heading level0 row2\" >bathrooms</th>\n",
       "                        <td id=\"T_1ef80_row2_col0\" class=\"data row2 col0\" >0.51</td>\n",
       "                        <td id=\"T_1ef80_row2_col1\" class=\"data row2 col1\" >0.48</td>\n",
       "                        <td id=\"T_1ef80_row2_col2\" class=\"data row2 col2\" >1.00</td>\n",
       "                        <td id=\"T_1ef80_row2_col3\" class=\"data row2 col3\" >0.70</td>\n",
       "                        <td id=\"T_1ef80_row2_col4\" class=\"data row2 col4\" >0.61</td>\n",
       "                        <td id=\"T_1ef80_row2_col5\" class=\"data row2 col5\" >0.43</td>\n",
       "            </tr>\n",
       "            <tr>\n",
       "                        <th id=\"T_1ef80_level0_row3\" class=\"row_heading level0 row3\" >sqft_living</th>\n",
       "                        <td id=\"T_1ef80_row3_col0\" class=\"data row3 col0\" >0.70</td>\n",
       "                        <td id=\"T_1ef80_row3_col1\" class=\"data row3 col1\" >0.59</td>\n",
       "                        <td id=\"T_1ef80_row3_col2\" class=\"data row3 col2\" >0.70</td>\n",
       "                        <td id=\"T_1ef80_row3_col3\" class=\"data row3 col3\" >1.00</td>\n",
       "                        <td id=\"T_1ef80_row3_col4\" class=\"data row3 col4\" >0.76</td>\n",
       "                        <td id=\"T_1ef80_row3_col5\" class=\"data row3 col5\" >0.32</td>\n",
       "            </tr>\n",
       "            <tr>\n",
       "                        <th id=\"T_1ef80_level0_row4\" class=\"row_heading level0 row4\" >grade</th>\n",
       "                        <td id=\"T_1ef80_row4_col0\" class=\"data row4 col0\" >0.67</td>\n",
       "                        <td id=\"T_1ef80_row4_col1\" class=\"data row4 col1\" >0.37</td>\n",
       "                        <td id=\"T_1ef80_row4_col2\" class=\"data row4 col2\" >0.61</td>\n",
       "                        <td id=\"T_1ef80_row4_col3\" class=\"data row4 col3\" >0.76</td>\n",
       "                        <td id=\"T_1ef80_row4_col4\" class=\"data row4 col4\" >1.00</td>\n",
       "                        <td id=\"T_1ef80_row4_col5\" class=\"data row4 col5\" >0.45</td>\n",
       "            </tr>\n",
       "            <tr>\n",
       "                        <th id=\"T_1ef80_level0_row5\" class=\"row_heading level0 row5\" >yr_built</th>\n",
       "                        <td id=\"T_1ef80_row5_col0\" class=\"data row5 col0\" >0.05</td>\n",
       "                        <td id=\"T_1ef80_row5_col1\" class=\"data row5 col1\" >0.16</td>\n",
       "                        <td id=\"T_1ef80_row5_col2\" class=\"data row5 col2\" >0.43</td>\n",
       "                        <td id=\"T_1ef80_row5_col3\" class=\"data row5 col3\" >0.32</td>\n",
       "                        <td id=\"T_1ef80_row5_col4\" class=\"data row5 col4\" >0.45</td>\n",
       "                        <td id=\"T_1ef80_row5_col5\" class=\"data row5 col5\" >1.00</td>\n",
       "            </tr>\n",
       "    </tbody></table>"
      ],
      "text/plain": [
       "<pandas.io.formats.style.Styler at 0x1ea58671d90>"
      ]
     },
     "execution_count": 30,
     "metadata": {},
     "output_type": "execute_result"
    }
   ],
   "source": [
    "#Mengetahui nilai korelasi dari independent variable dan dependent variable\n",
    "df.corr().style.background_gradient().set_precision(2)"
   ]
  },
  {
   "cell_type": "code",
   "execution_count": 31,
   "id": "e78f4db2",
   "metadata": {},
   "outputs": [
    {
     "data": {
      "text/html": [
       "<div>\n",
       "<style scoped>\n",
       "    .dataframe tbody tr th:only-of-type {\n",
       "        vertical-align: middle;\n",
       "    }\n",
       "\n",
       "    .dataframe tbody tr th {\n",
       "        vertical-align: top;\n",
       "    }\n",
       "\n",
       "    .dataframe thead th {\n",
       "        text-align: right;\n",
       "    }\n",
       "</style>\n",
       "<table border=\"1\" class=\"dataframe\">\n",
       "  <thead>\n",
       "    <tr style=\"text-align: right;\">\n",
       "      <th></th>\n",
       "      <th>price</th>\n",
       "      <th>bedrooms</th>\n",
       "      <th>bathrooms</th>\n",
       "      <th>sqft_living</th>\n",
       "      <th>grade</th>\n",
       "      <th>yr_built</th>\n",
       "    </tr>\n",
       "  </thead>\n",
       "  <tbody>\n",
       "    <tr>\n",
       "      <th>0</th>\n",
       "      <td>221900.0</td>\n",
       "      <td>3</td>\n",
       "      <td>1</td>\n",
       "      <td>1180</td>\n",
       "      <td>7</td>\n",
       "      <td>1955</td>\n",
       "    </tr>\n",
       "    <tr>\n",
       "      <th>1</th>\n",
       "      <td>538000.0</td>\n",
       "      <td>3</td>\n",
       "      <td>2</td>\n",
       "      <td>2570</td>\n",
       "      <td>7</td>\n",
       "      <td>1951</td>\n",
       "    </tr>\n",
       "    <tr>\n",
       "      <th>2</th>\n",
       "      <td>180000.0</td>\n",
       "      <td>2</td>\n",
       "      <td>1</td>\n",
       "      <td>770</td>\n",
       "      <td>6</td>\n",
       "      <td>1933</td>\n",
       "    </tr>\n",
       "    <tr>\n",
       "      <th>3</th>\n",
       "      <td>604000.0</td>\n",
       "      <td>4</td>\n",
       "      <td>3</td>\n",
       "      <td>1960</td>\n",
       "      <td>7</td>\n",
       "      <td>1965</td>\n",
       "    </tr>\n",
       "    <tr>\n",
       "      <th>4</th>\n",
       "      <td>510000.0</td>\n",
       "      <td>3</td>\n",
       "      <td>2</td>\n",
       "      <td>1680</td>\n",
       "      <td>8</td>\n",
       "      <td>1987</td>\n",
       "    </tr>\n",
       "  </tbody>\n",
       "</table>\n",
       "</div>"
      ],
      "text/plain": [
       "      price  bedrooms  bathrooms  sqft_living  grade  yr_built\n",
       "0  221900.0         3          1         1180      7      1955\n",
       "1  538000.0         3          2         2570      7      1951\n",
       "2  180000.0         2          1          770      6      1933\n",
       "3  604000.0         4          3         1960      7      1965\n",
       "4  510000.0         3          2         1680      8      1987"
      ]
     },
     "execution_count": 31,
     "metadata": {},
     "output_type": "execute_result"
    }
   ],
   "source": [
    "#Recall data kita\n",
    "df.head()"
   ]
  },
  {
   "cell_type": "code",
   "execution_count": 32,
   "id": "eeb95520",
   "metadata": {},
   "outputs": [],
   "source": [
    "#MODELING\n",
    "#Pertama, buat variabel x dan y\n",
    "x = df.drop(columns='price')\n",
    "y = df['price']"
   ]
  },
  {
   "cell_type": "code",
   "execution_count": 33,
   "id": "cbc2fe4c",
   "metadata": {},
   "outputs": [],
   "source": [
    "#Kedua, kita split data kita menjadi training and testing dengan porsi 80:20\n",
    "x_train, x_test, y_train, y_test = train_test_split(x, y, test_size=0.2, random_state=4)"
   ]
  },
  {
   "cell_type": "code",
   "execution_count": 34,
   "id": "430dfd72",
   "metadata": {},
   "outputs": [
    {
     "name": "stdout",
     "output_type": "stream",
     "text": [
      "(17290, 5)\n",
      "(17290,)\n",
      "(4323, 5)\n",
      "(4323,)\n"
     ]
    }
   ],
   "source": [
    "#Cek shape dari data training dan testing\n",
    "print(x_train.shape)\n",
    "print(y_train.shape)\n",
    "print(x_test.shape)\n",
    "print(y_test.shape)"
   ]
  },
  {
   "cell_type": "code",
   "execution_count": 10,
   "id": "3487a363",
   "metadata": {},
   "outputs": [],
   "source": [
    "#Ketiga, kita bikin object linear regresi\n",
    "lin_reg = LinearRegression()"
   ]
  },
  {
   "cell_type": "code",
   "execution_count": 11,
   "id": "bb276415",
   "metadata": {},
   "outputs": [
    {
     "data": {
      "text/plain": [
       "LinearRegression()"
      ]
     },
     "execution_count": 11,
     "metadata": {},
     "output_type": "execute_result"
    }
   ],
   "source": [
    "#Keempat, train the model menggunakan training data yang sudah displit\n",
    "lin_reg.fit(x_train, y_train)"
   ]
  },
  {
   "cell_type": "code",
   "execution_count": 12,
   "id": "17ecb285",
   "metadata": {},
   "outputs": [
    {
     "name": "stdout",
     "output_type": "stream",
     "text": [
      "[-49153.02097214  62946.39413349    183.75469989 131564.28622994\n",
      "  -4078.99048223]\n",
      "7222922.234075839\n"
     ]
    }
   ],
   "source": [
    "#Kelima, cari tau nilai slope/koefisien (m) dan intercept (b)\n",
    "print(lin_reg.coef_)\n",
    "print(lin_reg.intercept_)"
   ]
  },
  {
   "cell_type": "code",
   "execution_count": 13,
   "id": "e8a0988d",
   "metadata": {},
   "outputs": [
    {
     "data": {
      "text/html": [
       "<div>\n",
       "<style scoped>\n",
       "    .dataframe tbody tr th:only-of-type {\n",
       "        vertical-align: middle;\n",
       "    }\n",
       "\n",
       "    .dataframe tbody tr th {\n",
       "        vertical-align: top;\n",
       "    }\n",
       "\n",
       "    .dataframe thead th {\n",
       "        text-align: right;\n",
       "    }\n",
       "</style>\n",
       "<table border=\"1\" class=\"dataframe\">\n",
       "  <thead>\n",
       "    <tr style=\"text-align: right;\">\n",
       "      <th></th>\n",
       "      <th>features</th>\n",
       "      <th>coef_value</th>\n",
       "    </tr>\n",
       "  </thead>\n",
       "  <tbody>\n",
       "    <tr>\n",
       "      <th>0</th>\n",
       "      <td>bedrooms</td>\n",
       "      <td>-49153.020972</td>\n",
       "    </tr>\n",
       "    <tr>\n",
       "      <th>1</th>\n",
       "      <td>bathrooms</td>\n",
       "      <td>62946.394133</td>\n",
       "    </tr>\n",
       "    <tr>\n",
       "      <th>2</th>\n",
       "      <td>sqft_living</td>\n",
       "      <td>183.754700</td>\n",
       "    </tr>\n",
       "    <tr>\n",
       "      <th>3</th>\n",
       "      <td>grade</td>\n",
       "      <td>131564.286230</td>\n",
       "    </tr>\n",
       "    <tr>\n",
       "      <th>4</th>\n",
       "      <td>yr_built</td>\n",
       "      <td>-4078.990482</td>\n",
       "    </tr>\n",
       "  </tbody>\n",
       "</table>\n",
       "</div>"
      ],
      "text/plain": [
       "      features     coef_value\n",
       "0     bedrooms  -49153.020972\n",
       "1    bathrooms   62946.394133\n",
       "2  sqft_living     183.754700\n",
       "3        grade  131564.286230\n",
       "4     yr_built   -4078.990482"
      ]
     },
     "execution_count": 13,
     "metadata": {},
     "output_type": "execute_result"
    }
   ],
   "source": [
    "#Kita coba buat kedalam dataframe agar kebih rapi\n",
    "coef_dict = {\n",
    "    'features': x.columns,\n",
    "    'coef_value':lin_reg.coef_\n",
    "}\n",
    "coef = pd.DataFrame(coef_dict, columns=['features', 'coef_value'])\n",
    "coef"
   ]
  },
  {
   "cell_type": "code",
   "execution_count": 14,
   "id": "f630039a",
   "metadata": {},
   "outputs": [],
   "source": [
    "y_pred = lin_reg.predict(x_test)"
   ]
  },
  {
   "cell_type": "code",
   "execution_count": 15,
   "id": "7244a73f",
   "metadata": {},
   "outputs": [
    {
     "data": {
      "text/plain": [
       "0.6100542485955927"
      ]
     },
     "execution_count": 15,
     "metadata": {},
     "output_type": "execute_result"
    }
   ],
   "source": [
    "#Keenam, kita cari tahu accuracy score dari model kita menggunakan testing data yang sudah displit\n",
    "lin_reg.score(x_test, y_test)"
   ]
  },
  {
   "cell_type": "code",
   "execution_count": 16,
   "id": "4f8645d5",
   "metadata": {},
   "outputs": [
    {
     "data": {
      "text/plain": [
       "array([351754.57249161])"
      ]
     },
     "execution_count": 16,
     "metadata": {},
     "output_type": "execute_result"
    }
   ],
   "source": [
    "#Prediksi harga rumah idaman Yusron\n",
    "lin_reg.predict([[1,1,1200,8,2000]])"
   ]
  },
  {
   "cell_type": "code",
   "execution_count": null,
   "id": "5b33b160",
   "metadata": {},
   "outputs": [],
   "source": []
  }
 ],
 "metadata": {
  "kernelspec": {
   "display_name": "Python 3",
   "language": "python",
   "name": "python3"
  },
  "language_info": {
   "codemirror_mode": {
    "name": "ipython",
    "version": 3
   },
   "file_extension": ".py",
   "mimetype": "text/x-python",
   "name": "python",
   "nbconvert_exporter": "python",
   "pygments_lexer": "ipython3",
   "version": "3.8.9"
  }
 },
 "nbformat": 4,
 "nbformat_minor": 5
}
